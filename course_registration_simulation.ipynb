{
 "cells": [
  {
   "cell_type": "code",
   "execution_count": 3,
   "metadata": {},
   "outputs": [],
   "source": [
    "import random\n",
    "import sklearn\n",
    "import numpy\n",
    "#simulate 100 students: id 0-99, each with a list of 3 courses in order of preference,\n",
    "students = [{\"id\": i, \"preferences\": random.sample([\"Math\", \"CS\", \"Physics\", \"Biology\"], 3)} for i in range(100)]\n",
    "#simulate course sections \n",
    "courses = [{\"name\": \"Math\", \"sections\": 2, \"capacity\": 30}, \n",
    "            {\"name\": \"CS\", \"sections\": 2, \"capacity\": 30}, \n",
    "            {\"name\": \"Physics\", \"sections\": 1, \"capacity\": 20}, \n",
    "            {\"name\": \"Biology\", \"sections\": 1, \"capacity\": 20}]"
   ]
  },
  {
   "cell_type": "code",
   "execution_count": 6,
   "metadata": {},
   "outputs": [],
   "source": [
    "from sklearn.cluster import KMeans\n",
    "import numpy as np\n",
    "\n",
    "#use one hot encoding for course preferences\n",
    "course_list = [\"Math\", \"CS\", \"Physics\", \"Biology\"]\n",
    "student_data = []\n",
    "\n",
    "for student in students:\n",
    "    encoded_preferences = [1 if course in student[\"preferences\"] else 0 for course in course_list]\n",
    "    student_data.append(encoded_preferences)\n",
    "# Convert to numpy array for clustering\n",
    "student_data_array = np.array(student_data)\n",
    "\n",
    "\n",
    "#Use Kmeans to cluster students into 3 groups \n",
    "#students with similar course preferences should be clustered together\n",
    "kmeans = KMeans(n_clusters = 3, random_state = 42).fit(student_data_array)\n",
    "\n",
    "for i, student in enumerate(students):\n",
    "    student[\"cluster\"] = kmeans.labels_[i]"
   ]
  },
  {
   "cell_type": "code",
   "execution_count": 7,
   "metadata": {},
   "outputs": [],
   "source": [
    "#assign students to courses based on their cluster and preferences \n",
    "def assign_to_courses(students, courses):\n",
    "    #sort students by preference and assign them to available course sections\n",
    "\n",
    "    course_assignments = {course[\"name\"]: [] for course in courses}\n",
    "    \n",
    "    for student in students:\n",
    "        for preference in student['preferences']:\n",
    "            for course in courses:\n",
    "                if len(course_assignments[course['name']]) < course['capacity']:\n",
    "                    course_assignments[course[\"name\"]].append(student[\"id\"])\n",
    "                    break\n",
    "\n",
    "    return course_assignments\n",
    "\n"
   ]
  },
  {
   "cell_type": "code",
   "execution_count": 8,
   "metadata": {},
   "outputs": [],
   "source": [
    "assignments = assign_to_courses(students, courses)"
   ]
  },
  {
   "cell_type": "code",
   "execution_count": 9,
   "metadata": {},
   "outputs": [],
   "source": [
    "#check if courses are overbooked\n",
    "def check_overbooked(assignments, courses):\n",
    "    overbooked_courses = {}\n",
    "\n",
    "    for course in courses:\n",
    "        if len(assignments[course[\"name\"]]) > course[\"capacity\"]:\n",
    "            overbooked_courses[course[\"name\"]] = len(assignments[course[\"name\"]]) - course[\"capacity\"]\n",
    "\n",
    "    return overbooked_courses"
   ]
  },
  {
   "cell_type": "code",
   "execution_count": 10,
   "metadata": {},
   "outputs": [
    {
     "name": "stdout",
     "output_type": "stream",
     "text": [
      "{}\n"
     ]
    }
   ],
   "source": [
    "overbooked_courses = check_overbooked(assignments, courses)\n",
    "print(overbooked_courses)"
   ]
  },
  {
   "cell_type": "code",
   "execution_count": null,
   "metadata": {},
   "outputs": [],
   "source": []
  }
 ],
 "metadata": {
  "kernelspec": {
   "display_name": "Python [conda env:base] *",
   "language": "python",
   "name": "conda-base-py"
  },
  "language_info": {
   "codemirror_mode": {
    "name": "ipython",
    "version": 3
   },
   "file_extension": ".py",
   "mimetype": "text/x-python",
   "name": "python",
   "nbconvert_exporter": "python",
   "pygments_lexer": "ipython3",
   "version": "3.12.2"
  },
  "vscode": {
   "interpreter": {
    "hash": "aee8b7b246df8f9039afb4144a1f6fd8d2ca17a180786b69acc140d282b71a49"
   }
  }
 },
 "nbformat": 4,
 "nbformat_minor": 4
}
